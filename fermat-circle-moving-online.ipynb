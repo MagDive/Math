{
 "cells": [
  {
   "cell_type": "markdown",
   "metadata": {},
   "source": [
    "## An animation reproducing a Fermat's Library gif, posted on twitter ##"
   ]
  },
  {
   "cell_type": "markdown",
   "metadata": {},
   "source": [
    "   Fermat's library, `@fermatslibrary`, posted on twitter  a gif [https://twitter.com/fermatslibrary/status/862659602776805379](https://twitter.com/fermatslibrary/status/862659602776805379) illustrating\n",
    " eight points moving inside a circle. No explanation of the motion was given. Here I reproduce it via Python Plotly.\n",
    " \n",
    " Following each particular point one notices that it moves on a diameter of the greater circle.\n",
    " \n",
    "The white rays intersect the  circle (of radius R=1) at the $16^{th}$ roots of  unity. The eight points lie at each time during their motion on a circle of radius 1/2, and the center at the middle of a ray of the greater circle.\n",
    "\n",
    "If  at the time t=0, corresponding to the initial frame, the smaller circle has the center $(0.5, 0)$, and radius r=1/2, then the  points at this time are represented by the complex numbers   $u[k]=0.5+0.5\\cdot e^{2\\pi j k/8}$, where $e^{2\\pi j k/8}$, $k=\\overline{0,7}$, are the $8^{th}$ roots of  unity. The $m^{th}$ frame of the animation displays  the position of  points obtained from the initial ones, as follows:\n",
    "  - rotate the center 0.5+0j about O, by $\\theta_m=-2 m \\pi/16$ and get the new center $C_m$;\n",
    "  - place  on the circle of center $C_m$ and radius r=0.5, the points $u[k]-0.5$  rotated about O with $-\\theta_m$.\n",
    "Hence in the $m^{th}$ frame we plot the points $w[k]=e^{-m\\pi j/8}0.5+e^{m\\pi j/8}(u[k]-0.5)$, $k=\\overline{0,7}$"
   ]
  },
  {
   "cell_type": "code",
   "execution_count": 1,
   "metadata": {
    "collapsed": true
   },
   "outputs": [],
   "source": [
    "import numpy as np\n",
    "from numpy import pi\n",
    "import plotly.plotly as py\n",
    "from plotly.grid_objs import Grid, Column\n",
    "import time"
   ]
  },
  {
   "cell_type": "code",
   "execution_count": 2,
   "metadata": {
    "collapsed": true
   },
   "outputs": [],
   "source": [
    "py.sign_in('empet', 'api_key')"
   ]
  },
  {
   "cell_type": "code",
   "execution_count": 3,
   "metadata": {
    "collapsed": true
   },
   "outputs": [],
   "source": [
    "u=np.array([0.5+0.5*np.exp(2*k*np.pi*1j/8) for k in range(8)], dtype=np.complex)"
   ]
  },
  {
   "cell_type": "code",
   "execution_count": 4,
   "metadata": {},
   "outputs": [
    {
     "data": {
      "text/plain": [
       "u'https://plot.ly/~empet/14316/'"
      ]
     },
     "execution_count": 4,
     "metadata": {},
     "output_type": "execute_result"
    }
   ],
   "source": [
    "my_columns=[Column(u.real, 'x0'), Column(u.imag, 'y0')]\n",
    "for m in range(64):\n",
    "    w=np.exp(-1j*m*pi/8)*0.5+np.exp(1j*m*pi/8)*(u-0.5)\n",
    "    my_columns.append(Column(w.real, 'x{}'.format(m+1)))  \n",
    "    my_columns.append(Column(w.imag, 'y{}'.format(m+1)))\n",
    "grid = Grid(my_columns)\n",
    "#upload data to Plotly cloyd\n",
    "py.grid_ops.upload(grid, 'anim-Feramatex'+str(time.time()), auto_open=False)"
   ]
  },
  {
   "cell_type": "markdown",
   "metadata": {},
   "source": [
    "Define data that will be updated by each animation frame:"
   ]
  },
  {
   "cell_type": "code",
   "execution_count": 5,
   "metadata": {
    "collapsed": true
   },
   "outputs": [],
   "source": [
    "data=[dict(type='scatter',\n",
    "           xsrc=grid.get_column_reference('x0'),\n",
    "           ysrc= grid.get_column_reference('y0'),\n",
    "           mode='markers',\n",
    "           marker=dict(symbol='dot', size=0.01, color='white'),\n",
    "           name='moving_pts',\n",
    "           )]"
   ]
  },
  {
   "cell_type": "code",
   "execution_count": 6,
   "metadata": {
    "collapsed": true
   },
   "outputs": [],
   "source": [
    "frames=[]\n",
    "for m in range(64):\n",
    "    frames.append(dict(data=[dict(type='scatter',\n",
    "                                  xsrc=grid.get_column_reference('x{}'.format(m+1)),\n",
    "                                  ysrc= grid.get_column_reference('y{}'.format(m+1)),\n",
    "                                  marker=dict(symbol='dot', size=15, color='white')    \n",
    "                                 )],\n",
    "                      traces=[0]\n",
    "                  )\n",
    "                 )"
   ]
  },
  {
   "cell_type": "markdown",
   "metadata": {},
   "source": [
    "Set the plot layout:"
   ]
  },
  {
   "cell_type": "code",
   "execution_count": 7,
   "metadata": {
    "collapsed": true
   },
   "outputs": [],
   "source": [
    "axis=dict(showline=False,  \n",
    "          zeroline=False,\n",
    "          showgrid=False,\n",
    "          showticklabels=False,\n",
    "          range=[-1.1,1.01],\n",
    "          autorange=False,\n",
    "          title='' \n",
    "          )\n",
    "\n",
    "layout=dict(title='Math is Fun',\n",
    "            autosize=False,\n",
    "            width=600,\n",
    "            height=600,\n",
    "            showlegend=False,\n",
    "            xaxis=dict(axis),\n",
    "            yaxis=dict(axis),\n",
    "            hovermode='closest',\n",
    "            shapes=[],\n",
    "            updatemenus=[dict(type='buttons',\n",
    "                              showactive=False,\n",
    "                              y=1,\n",
    "                              x=1.2,\n",
    "                              xanchor='right',\n",
    "                              yanchor='top',\n",
    "                              pad=dict(l=10),\n",
    "                              buttons=[dict(label='Play',\n",
    "                                            method='animate',\n",
    "                                            args=[None, dict(frame=dict(duration=180, redraw=False), \n",
    "                                            transition=dict(duration=200),\n",
    "                                            fromcurrent=True,\n",
    "                                            mode='immediate'\n",
    "                                                )]\n",
    "                                            )]\n",
    "                            )]\n",
    "           )"
   ]
  },
  {
   "cell_type": "markdown",
   "metadata": {},
   "source": [
    "The black disk is defined as a Plotly shape, and the withe diameters as quadratic B&eacute;zier curves defined by\n",
    " three colinear control points:"
   ]
  },
  {
   "cell_type": "code",
   "execution_count": 8,
   "metadata": {
    "collapsed": true
   },
   "outputs": [],
   "source": [
    "z=np.array([np.exp(2*k*np.pi*1j/16) for k in range(16)], dtype=np.complex)#the 16^th roots of unity"
   ]
  },
  {
   "cell_type": "code",
   "execution_count": 9,
   "metadata": {
    "collapsed": true
   },
   "outputs": [],
   "source": [
    "layout['shapes'].append(dict(type= 'circle',\n",
    "                             layer= 'below',\n",
    "                             xref= 'x',\n",
    "                             yref='y',\n",
    "                             fillcolor= 'rgba(10,10,10, 0.9)',\n",
    "                             x0= -1.01,\n",
    "                             y0= -1.01,\n",
    "                             x1= 1.01,\n",
    "                             y1= 1.01,\n",
    "                             line= dict(color= 'rgba(10,10,10, 0.9)')\n",
    "                            )\n",
    "                         )\n",
    "#define the shapes of eight diameters\n",
    "for k in range( 8):\n",
    "    x0=z[k].real\n",
    "    y0=z[k].imag\n",
    "    x1=z[k+8].real\n",
    "    y1=z[k+8].imag\n",
    "    layout['shapes'].append(dict(type= 'path',\n",
    "            path= 'M' + str(x0)+', '+str(y0)+' Q'+str(0.0)+', '+str(0.0)+ ' '+str(x1)+', '+str(y1),\n",
    "            line= dict(color= 'white', width=0.75)\n",
    "                                ))   "
   ]
  },
  {
   "cell_type": "code",
   "execution_count": 10,
   "metadata": {},
   "outputs": [
    {
     "data": {
      "text/html": [
       "<iframe id=\"igraph\" scrolling=\"no\" style=\"border:none;\" seamless=\"seamless\" src=\"https://plot.ly/~empet/14317.embed\" height=\"600px\" width=\"600px\"></iframe>"
      ],
      "text/plain": [
       "<plotly.tools.PlotlyDisplay object>"
      ]
     },
     "execution_count": 10,
     "metadata": {},
     "output_type": "execute_result"
    }
   ],
   "source": [
    "fig=dict(data=data, layout=layout, frames=frames)  \n",
    "py.icreate_animations(fig, filename='Fermat-exmay11'+str(time.time()))\n"
   ]
  },
  {
   "cell_type": "code",
   "execution_count": 29,
   "metadata": {},
   "outputs": [
    {
     "data": {
      "text/html": [
       "<style>\n",
       "    /*body {\n",
       "        background-color: #F5F5F5;\n",
       "    }*/\n",
       "    div.cell{\n",
       "        width: 900px;\n",
       "        margin-left: 13% !important;\n",
       "        margin-right: auto;\n",
       "    }\n",
       "    #notebook li { /* More space between bullet points */\n",
       "    margin-top:0.8em;\n",
       "    }\n",
       "\n",
       "    h1 {\n",
       "        font-family: 'Alegreya Sans', sans-serif;\n",
       "    }\n",
       "    .text_cell_render h1 {\n",
       "        font-weight: 200;\n",
       "        font-size: 40pt;\n",
       "        line-height: 100%;\n",
       "        color: rgb(8, 66, 133);\n",
       "        margin-bottom: 0em;\n",
       "        margin-top: 0em;\n",
       "        display: block;\n",
       "    }\n",
       "    h2 {\n",
       "        font-family: 'Fenix', serif;\n",
       "        text-indent:1em;\n",
       "        text-align:center;\n",
       "    }\n",
       "    .text_cell_render h2 {\n",
       "        font-weight: 200;\n",
       "        font-size: 28pt;\n",
       "        line-height: 100%;\n",
       "        color: rgb(8, 66, 133);\n",
       "        margin-bottom: 1.5em;\n",
       "        margin-top: 0.5em;\n",
       "        display: block;\n",
       "    }\n",
       "    h3 {\n",
       "        font-family: 'Fenix', serif;\n",
       "        %margin-top:12px;\n",
       "        %margin-bottom: 3px;\n",
       "    }\n",
       "    .text_cell_render h3 {\n",
       "        font-weight: 300;\n",
       "        font-size: 18pt;\n",
       "        line-height: 100%;\n",
       "        color: rgb(8, 66, 133);\n",
       "        margin-bottom: 0.5em;\n",
       "        margin-top: 2em;\n",
       "        display: block;\n",
       "    }\n",
       "    h4 {\n",
       "        font-family: 'Fenix', serif;\n",
       "    }\n",
       "    .text_cell_render h4 {\n",
       "        font-weight: 300;\n",
       "        font-size: 16pt;\n",
       "        color: rgb(8, 66, 133);\n",
       "        margin-bottom: 0.5em;\n",
       "        margin-top: 0.5em;\n",
       "        display: block;\n",
       "    }\n",
       "    h5 {\n",
       "        font-family: 'Alegreya Sans', sans-serif;\n",
       "    }\n",
       "    .text_cell_render h5 {\n",
       "        font-weight: 300;\n",
       "        font-style: normal;\n",
       "        font-size: 16pt;\n",
       "        margin-bottom: 0em;\n",
       "        margin-top: 1.5em;\n",
       "        display: block;\n",
       "        }\n",
       "    div.text_cell_render{\n",
       "        font-family: 'Alegreya Sans',Computer Modern, \"Helvetica Neue\", Arial, Helvetica, Geneva, sans-serif;\n",
       "        line-height: 145%;\n",
       "        font-size: 130%;\n",
       "        width:900px;\n",
       "        margin-left:auto;\n",
       "        margin-right:auto;\n",
       "        %text-align:justify;\n",
       "        %text-justify:inter-word;\n",
       "    }\n",
       "    \n",
       "    \n",
       "    code{\n",
       "      font-size: 78%;\n",
       "    }\n",
       "    .rendered_html code{\n",
       "        background-color: transparent;\n",
       "        white-space: inherit;   \n",
       "    }\n",
       "    .prompt{\n",
       "        display: None;\n",
       "     }\n",
       "    .rendered_html code{\n",
       "    background-color: transparent;\n",
       "    }\n",
       "\n",
       "    blockquote{\n",
       "      display:block;\n",
       "      background: #f3f3f3;\n",
       "      font-family: \"Open sans\",verdana,arial,sans-serif;\n",
       "      width:610px;\n",
       "      padding: 15px 15px 15px 15px;\n",
       "      text-align:justify;\n",
       "      text-justify:inter-word;\n",
       "      }\n",
       "      blockquote p {\n",
       "        margin-bottom: 0;\n",
       "        line-height: 125%;\n",
       "        font-size: 100%;\n",
       "      }\n",
       "   /* element.style {\n",
       "    } */\n",
       "</style>\n",
       "<script>\n",
       "    MathJax.Hub.Config({\n",
       "                        TeX: {\n",
       "                           extensions: [\"AMSmath.js\"]\n",
       "                           },\n",
       "                tex2jax: {\n",
       "                    inlineMath: [ [\"$\",\"$\"], [\"\\\\(\",\"\\\\)\"] ],\n",
       "                    displayMath: [ [\"$$\",\"$$\"], [\"\\\\[\",\"\\\\]\"] ]\n",
       "                },\n",
       "                displayAlign: \"center\", // Change this to \"center\" to center equations.\n",
       "                \"HTML-CSS\": {\n",
       "                    styles: {\".MathJax_Display\": {\"margin\": 4}}\n",
       "                }\n",
       "        });\n",
       "</script>\n"
      ],
      "text/plain": [
       "<IPython.core.display.HTML object>"
      ]
     },
     "execution_count": 29,
     "metadata": {},
     "output_type": "execute_result"
    }
   ],
   "source": [
    "from IPython.core.display import HTML\n",
    "def  css_styling():\n",
    "    styles = open(\"./custom.css\", \"r\").read()\n",
    "    return HTML(styles)\n",
    "css_styling()"
   ]
  }
 ],
 "metadata": {
  "kernelspec": {
   "display_name": "Python 2",
   "language": "python",
   "name": "python2"
  },
  "language_info": {
   "codemirror_mode": {
    "name": "ipython",
    "version": 2
   },
   "file_extension": ".py",
   "mimetype": "text/x-python",
   "name": "python",
   "nbconvert_exporter": "python",
   "pygments_lexer": "ipython2",
   "version": "2.7.11"
  }
 },
 "nbformat": 4,
 "nbformat_minor": 2
}
